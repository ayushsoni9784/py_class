{
 "cells": [
  {
   "cell_type": "code",
   "execution_count": 1,
   "metadata": {},
   "outputs": [],
   "source": [
    "#OOPS \n",
    "# Class = Blueprint or structure Plan \n",
    "# Object = A member of class following the same structure of class "
   ]
  },
  {
   "cell_type": "code",
   "execution_count": 2,
   "metadata": {},
   "outputs": [],
   "source": [
    "# Features of OOPs \n",
    "# Object\n",
    "# Class \n",
    "# Inheritance-- taking all the functionality from the parent class\n",
    "# Polymorphism-- Ablity of an object to take many forms  \n",
    "# Abstraction-- Hiding the unnecessary data\n",
    "# Encapsulation-- Binding of Data"
   ]
  },
  {
   "cell_type": "code",
   "execution_count": 5,
   "metadata": {},
   "outputs": [
    {
     "name": "stdout",
     "output_type": "stream",
     "text": [
      "Name-  Ayush\n",
      "Age-  21\n",
      "Marks-  98\n",
      "Ayush Soni\n"
     ]
    }
   ],
   "source": [
    "class Student:\n",
    "    def __init__(self):\n",
    "        self.name = \"Ayush\"\n",
    "        self.age = 21\n",
    "        self.marks = 98\n",
    "    \n",
    "    def talk(self):\n",
    "        print(\"Name- \", self.name)\n",
    "        print(\"Age- \", self.age)\n",
    "        print(\"Marks- \", self.marks)\n",
    "\n",
    "        \n",
    "# object creation\n",
    "s1 = Student()\n",
    "s1.talk()\n",
    "s1.name = \"Ayush Soni\"\n",
    "print(s1.name)"
   ]
  },
  {
   "cell_type": "code",
   "execution_count": 8,
   "metadata": {},
   "outputs": [
    {
     "name": "stdout",
     "output_type": "stream",
     "text": [
      "__init__ is called automatically\n",
      "__init__ is called automatically\n"
     ]
    }
   ],
   "source": [
    "#Understanding init and self \n",
    "\n",
    "# The __init__ function is called a contructor or initializer and is automatically called \n",
    "# when you create a new instance or class.\n",
    "\n",
    "# We cannot call init method it is automatically called when object is made.\n",
    "\n",
    "class Student:\n",
    "    def __init__(self):\n",
    "        self.name = \"Ayush\"\n",
    "        self.age = 21\n",
    "        self.marks = 98\n",
    "        print(\"__init__ is called automatically\")\n",
    "    \n",
    "    def talk(self):\n",
    "        print(\"Name- \", self.name)\n",
    "        print(\"Age- \", self.age)\n",
    "        print(\"Marks- \", self.marks)\n",
    "    \n",
    "s1 = Student()\n",
    "s2 = Student()"
   ]
  },
  {
   "cell_type": "code",
   "execution_count": 9,
   "metadata": {},
   "outputs": [
    {
     "name": "stdout",
     "output_type": "stream",
     "text": [
      "Name-  Ayush Soni\n",
      "Age-  21\n",
      "Marks-  98\n",
      "------------------\n",
      "Name-  Ayush\n",
      "Age-  21\n",
      "Marks-  98\n"
     ]
    }
   ],
   "source": [
    "# Self is a  varible that refers to current class instance\n",
    "class Student:\n",
    "    def __init__(self):\n",
    "        self.name = \"Ayush\"\n",
    "        self.age = 21\n",
    "        self.marks = 98\n",
    "    \n",
    "    def talk(self):\n",
    "        print(\"Name- \", self.name)\n",
    "        print(\"Age- \", self.age)\n",
    "        print(\"Marks- \", self.marks)\n",
    "s1 = Student()\n",
    "s1.name = \"Ayush Soni\"\n",
    "s1.talk()\n",
    "print(\"------------------\")\n",
    "s2 = Student()\n",
    "s2.talk()\n"
   ]
  },
  {
   "cell_type": "code",
   "execution_count": 2,
   "metadata": {},
   "outputs": [
    {
     "name": "stdout",
     "output_type": "stream",
     "text": [
      "Name: ayush\n",
      "Age: 21\n",
      "Marks: 452\n",
      "Hi ayush\n",
      "Your Age 21\n",
      "your Marks 452\n"
     ]
    }
   ],
   "source": [
    "n = input(\"Name: \")\n",
    "a = int(input(\"Age: \"))\n",
    "m = int(input(\"Marks: \"))\n",
    "class User:\n",
    "    def __init__(self, n, a, m):\n",
    "        self.name = n\n",
    "        self.age = a \n",
    "        self.marks = m\n",
    "    \n",
    "    def display(self):\n",
    "        print(\"Hi\",self.name)\n",
    "        print(\"Your Age\",self.age)\n",
    "        print(\"your Marks\",self.marks)\n",
    "    \n",
    "s1 = User(n, a, m)\n",
    "s1.display()"
   ]
  },
  {
   "cell_type": "code",
   "execution_count": 5,
   "metadata": {},
   "outputs": [
    {
     "name": "stdout",
     "output_type": "stream",
     "text": [
      "Hi Ayush\n",
      "Your Age 21\n",
      "your Marks 456\n"
     ]
    }
   ],
   "source": [
    "s2 = User(\"Ayush\", 21,456)\n",
    "s2.display()"
   ]
  },
  {
   "cell_type": "code",
   "execution_count": 14,
   "metadata": {},
   "outputs": [
    {
     "name": "stdout",
     "output_type": "stream",
     "text": [
      "10\n",
      "80\n",
      "100\n"
     ]
    }
   ],
   "source": [
    "\n",
    "class Speed:\n",
    "    def __init__(self):\n",
    "        self.speed = 10\n",
    "        self.__new_speed = 80  #private member of  class represented by double underscore\n",
    "    \n",
    "    def get_new_speed(self):  # getter\n",
    "        return self.__new_speed\n",
    "    \n",
    "    def set_new_speed(self, new_speed): #setter\n",
    "        self.__new_speed = new_speed\n",
    "        \n",
    "s = Speed()\n",
    "\n",
    "print(s.speed)\n",
    "print(s.get_new_speed())\n",
    "#Using the getters and setters \n",
    "s.set_new_speed(100)\n",
    "print(s.get_new_speed())"
   ]
  },
  {
   "cell_type": "code",
   "execution_count": 18,
   "metadata": {},
   "outputs": [
    {
     "name": "stdout",
     "output_type": "stream",
     "text": [
      "10\n",
      "20\n",
      "30\n",
      "Inside private method\n"
     ]
    }
   ],
   "source": [
    "# public and private methods \n",
    "\n",
    "class Methods:\n",
    "    def __init__(self):\n",
    "        self.x = 10 \n",
    "        self._y = 20 #partial private\n",
    "        self.__z = 30 #private \n",
    "    def public_method(self):\n",
    "        print(self.x)\n",
    "        print(self._y)\n",
    "        print(self.__z)\n",
    "        self.__private_method()\n",
    "    def __private_method(self):\n",
    "        print(\"Inside private method\")\n",
    "        \n",
    "c = Methods()\n",
    "c.public_method()"
   ]
  },
  {
   "cell_type": "code",
   "execution_count": 27,
   "metadata": {},
   "outputs": [
    {
     "name": "stdout",
     "output_type": "stream",
     "text": [
      "75\n",
      "25.0\n"
     ]
    }
   ],
   "source": [
    "# Inheritance \n",
    "\n",
    "class Polygon :\n",
    "    __width = None \n",
    "    __height = None\n",
    "    \n",
    "    def set_values(self, width, height):\n",
    "        self.__width = width \n",
    "        self.__height = height\n",
    "        \n",
    "    def get_width(self):\n",
    "        return self.__width \n",
    "    def get_height(self):\n",
    "        return self.__height\n",
    "    \n",
    "class Square(Polygon):\n",
    "    def area(self):\n",
    "        return self.get_width() * self.get_height()\n",
    "\n",
    "class Triangle(Polygon):\n",
    "    def area(self):\n",
    "        return self.get_width() * self.get_height() * 1/2\n",
    "    \n",
    "\n",
    "s = Square()\n",
    "s.set_values(15, 5)\n",
    "print(s.area())\n",
    "\n",
    "t = Triangle()\n",
    "t.set_values(10, 5)\n",
    "print(t.area())\n",
    "    "
   ]
  },
  {
   "cell_type": "code",
   "execution_count": 28,
   "metadata": {},
   "outputs": [
    {
     "name": "stdout",
     "output_type": "stream",
     "text": [
      "Child __init__\n"
     ]
    }
   ],
   "source": [
    "# super() function \n",
    "\n",
    "class Parent:\n",
    "    def __init__(self,name):\n",
    "        print(\"Parent __init__\",name)\n",
    "\n",
    "class Child(Parent):\n",
    "    def __init__(self):\n",
    "        print(\"Child __init__\")\n",
    "        \n",
    "c = Child() \n",
    "\n",
    "# at first child init is called "
   ]
  },
  {
   "cell_type": "code",
   "execution_count": 31,
   "metadata": {},
   "outputs": [
    {
     "name": "stdout",
     "output_type": "stream",
     "text": [
      "Child __init__\n",
      "Parent __init__ Ayush\n"
     ]
    }
   ],
   "source": [
    " #accessing the parent init without the super() func \n",
    "    \n",
    "class Parent:\n",
    "    def __init__(self,name):\n",
    "        print(\"Parent __init__\",name)\n",
    "\n",
    "class Child(Parent):\n",
    "    def __init__(self):\n",
    "        print(\"Child __init__\")\n",
    "        Parent.__init__(self,\"Ayush\")\n",
    "\n",
    "c = Child()"
   ]
  },
  {
   "cell_type": "code",
   "execution_count": 33,
   "metadata": {},
   "outputs": [
    {
     "name": "stdout",
     "output_type": "stream",
     "text": [
      "Child __init__\n",
      "Parent __init__ ayush\n",
      "(<class '__main__.Child'>, <class '__main__.Parent'>, <class 'object'>)\n"
     ]
    }
   ],
   "source": [
    "# Accessing the parent __init with super func \n",
    "\n",
    "class Parent:\n",
    "    def __init__(self,name):\n",
    "        print(\"Parent __init__\",name)\n",
    "\n",
    "class Child(Parent):\n",
    "    def __init__(self):\n",
    "        print(\"Child __init__\")\n",
    "        super().__init__(\"ayush\")\n",
    "    \n",
    "child_obj = Child()\n",
    "print(Child.__mro__) #mro is sequence of how classes are calling "
   ]
  },
  {
   "cell_type": "code",
   "execution_count": 35,
   "metadata": {},
   "outputs": [
    {
     "name": "stdout",
     "output_type": "stream",
     "text": [
      "Child __init__\n",
      "Parent __init__ Ayush\n",
      "(<class '__main__.Child'>, <class '__main__.Parent'>, <class '__main__.Parent2'>, <class 'object'>)\n"
     ]
    }
   ],
   "source": [
    "class Parent:\n",
    "    def __init__(self,name):\n",
    "        print(\"Parent __init__\",name)\n",
    "\n",
    "class Parent2:\n",
    "    def __init__(self,name):\n",
    "        print(\"Parent __init__\",name)\n",
    "\n",
    "class Child(Parent, Parent2): # this is multiple inheritance \n",
    "    def __init__(self):\n",
    "        print(\"Child __init__\")\n",
    "        super().__init__(\"Ayush\")\n",
    "        \n",
    "child_obj = Child()\n",
    "print(Child.__mro__) "
   ]
  },
  {
   "cell_type": "code",
   "execution_count": 39,
   "metadata": {},
   "outputs": [
    {
     "name": "stdout",
     "output_type": "stream",
     "text": [
      "Child __init__\n",
      "Parent __init__ Ayush\n",
      "Parent __init__ Soni\n"
     ]
    }
   ],
   "source": [
    "class Parent:\n",
    "    def __init__(self,name):\n",
    "        print(\"Parent __init__\",name)\n",
    "\n",
    "class Parent2:\n",
    "    def __init__(self,name):\n",
    "        print(\"Parent __init__\",name)\n",
    "\n",
    "class Child(Parent2, Parent):\n",
    "    def __init__(self):\n",
    "        print(\"Child __init__\")\n",
    "        super().__init__(\"Ayush\")\n",
    "        Parent.__init__(self, \"Soni\")\n",
    "        \n",
    "child_obj = Child()\n",
    "#Whichever parent is comming first in sequence that init method is called "
   ]
  },
  {
   "cell_type": "code",
   "execution_count": 40,
   "metadata": {},
   "outputs": [
    {
     "data": {
      "text/plain": [
       "1210000"
      ]
     },
     "execution_count": 40,
     "metadata": {},
     "output_type": "execute_result"
    }
   ],
   "source": [
    "# Composition \n",
    "# It has a relationship of partof \n",
    "# for ex salary is  part of employee \n",
    "# content is part of container \n",
    "# Salary is part of employee \n",
    "\n",
    "\n",
    "class Salary:\n",
    "    def __init__(self,pay,reward):\n",
    "        self.pay = pay \n",
    "        self.reward = reward \n",
    "        \n",
    "    def annual_salary(self):\n",
    "        return (self.pay*12) + self.reward \n",
    "    \n",
    "class Employee:\n",
    "    def __init__(self, name, position, pay,reward):\n",
    "        self.name = name \n",
    "        self.position = position\n",
    "        self.final_salary = Salary(pay, reward)\n",
    "        \n",
    "    def final_salary_m(self):\n",
    "        return self.final_salary.annual_salary()\n",
    "    \n",
    "emp = Employee(\"Ayush\", \"PY Dev\", 100000, 10000)\n",
    "emp.final_salary_m()"
   ]
  },
  {
   "cell_type": "code",
   "execution_count": 43,
   "metadata": {},
   "outputs": [
    {
     "data": {
      "text/plain": [
       "1210000"
      ]
     },
     "execution_count": 43,
     "metadata": {},
     "output_type": "execute_result"
    }
   ],
   "source": [
    "#Aggregation \n",
    "# It is a relationship of has a\n",
    "# Employee has a salary \n",
    "# It is unidirectional in nature one way relationship\n",
    "# Aggregation is a weak connection and composition is strong connection \n",
    "\n",
    "class Salary:\n",
    "    def __init__(self,pay,reward):\n",
    "        self.pay = pay \n",
    "        self.reward = reward \n",
    "        \n",
    "    def annual_salary(self):\n",
    "        return (self.pay*12) + self.reward \n",
    "    \n",
    "class Employee:\n",
    "    def __init__(self, name, position, sal):\n",
    "        self.name = name \n",
    "        self.position = position\n",
    "        self.final_salary = sal\n",
    "        \n",
    "    def final_salary_m(self):\n",
    "        return self.final_salary.annual_salary()\n",
    "    \n",
    "sal = Salary(100000, 10000)\n",
    "emp = Employee(\"Ayush\", \"PY Dev\",sal)\n",
    "emp.final_salary_m()"
   ]
  },
  {
   "cell_type": "code",
   "execution_count": 1,
   "metadata": {},
   "outputs": [
    {
     "data": {
      "text/plain": [
       "100"
      ]
     },
     "execution_count": 1,
     "metadata": {},
     "output_type": "execute_result"
    }
   ],
   "source": [
    "#Abstract class and abstarct method \n",
    "# it is used when we doesn't want the user to allow create object of my parent class \n",
    "# and also method of parent class must be implemented in sub-class only \n",
    "\n",
    "from abc import ABC, abstractmethod \n",
    "\n",
    "class Shape(ABC):\n",
    "    @abstractmethod\n",
    "    def area(self):\n",
    "        pass\n",
    "    \n",
    "class Square(Shape):\n",
    "    def __init__(self,side):\n",
    "        self.side = side \n",
    "    \n",
    "    def area(self):\n",
    "        return self.side * self.side \n",
    "    \n",
    "s = Square(10)\n",
    "s.area()\n"
   ]
  },
  {
   "cell_type": "code",
   "execution_count": null,
   "metadata": {},
   "outputs": [],
   "source": []
  }
 ],
 "metadata": {
  "kernelspec": {
   "display_name": "Python 3",
   "language": "python",
   "name": "python3"
  },
  "language_info": {
   "codemirror_mode": {
    "name": "ipython",
    "version": 3
   },
   "file_extension": ".py",
   "mimetype": "text/x-python",
   "name": "python",
   "nbconvert_exporter": "python",
   "pygments_lexer": "ipython3",
   "version": "3.6.9"
  }
 },
 "nbformat": 4,
 "nbformat_minor": 2
}
