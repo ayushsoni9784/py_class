{
 "cells": [
  {
   "cell_type": "code",
   "execution_count": 3,
   "metadata": {},
   "outputs": [
    {
     "name": "stdout",
     "output_type": "stream",
     "text": [
      "60\n"
     ]
    }
   ],
   "source": [
    "#User Defined Functions \n",
    "def sum_f(arg1,arg2):\n",
    "    c = arg1+arg2\n",
    "    print (c)\n",
    "sum_f(10,50)"
   ]
  },
  {
   "cell_type": "code",
   "execution_count": 4,
   "metadata": {},
   "outputs": [
    {
     "name": "stdout",
     "output_type": "stream",
     "text": [
      "Ayush\n",
      "21\n"
     ]
    }
   ],
   "source": [
    "def name_age(name,age):\n",
    "    print(name)\n",
    "    print(age)\n",
    "name_age(\"Ayush\",21)\n",
    "\n",
    "# here the name and age are parameter and ayush and 21 is arguments\n"
   ]
  },
  {
   "cell_type": "code",
   "execution_count": 5,
   "metadata": {},
   "outputs": [
    {
     "data": {
      "text/plain": [
       "'AyushSoni'"
      ]
     },
     "execution_count": 5,
     "metadata": {},
     "output_type": "execute_result"
    }
   ],
   "source": [
    "def sum(inp1,inp2):\n",
    "    if type(inp1) == type(inp2):\n",
    "        return inp1 + inp2 \n",
    "    else:\n",
    "        return \"Datatypes are diffrent\"\n",
    "    \n",
    "sum(\"Ayush\",\"Soni\")"
   ]
  },
  {
   "cell_type": "code",
   "execution_count": 6,
   "metadata": {},
   "outputs": [
    {
     "data": {
      "text/plain": [
       "67"
      ]
     },
     "execution_count": 6,
     "metadata": {},
     "output_type": "execute_result"
    }
   ],
   "source": [
    "sum(25,42)"
   ]
  },
  {
   "cell_type": "code",
   "execution_count": 7,
   "metadata": {},
   "outputs": [
    {
     "data": {
      "text/plain": [
       "'Datatypes are diffrent'"
      ]
     },
     "execution_count": 7,
     "metadata": {},
     "output_type": "execute_result"
    }
   ],
   "source": [
    "sum(\"AYush\",25)"
   ]
  },
  {
   "cell_type": "markdown",
   "metadata": {},
   "source": [
    "Deep dives with arguments\n",
    "Arguments are of 4 types \n",
    "Postional Arguments\n",
    "Keyword Arguments\n",
    "Default Arguments \n",
    "Variable Length Arguments \n"
   ]
  },
  {
   "cell_type": "code",
   "execution_count": 11,
   "metadata": {},
   "outputs": [
    {
     "name": "stdout",
     "output_type": "stream",
     "text": [
      "Item  Sugar\n",
      "Price  50\n"
     ]
    }
   ],
   "source": [
    "#Postional Arguments\n",
    "\n",
    "def shop(item,price):\n",
    "    print(\"Item \",item)\n",
    "    print(\"Price \",price)\n",
    "\n",
    "shop(\"Sugar\",50)"
   ]
  },
  {
   "cell_type": "code",
   "execution_count": 12,
   "metadata": {},
   "outputs": [
    {
     "name": "stdout",
     "output_type": "stream",
     "text": [
      "Item  50\n",
      "Price  Sugar\n"
     ]
    }
   ],
   "source": [
    "shop(50,\"Sugar\") #postional arguments to overcome we have keyword argumnets"
   ]
  },
  {
   "cell_type": "code",
   "execution_count": 13,
   "metadata": {},
   "outputs": [
    {
     "name": "stdout",
     "output_type": "stream",
     "text": [
      "Item  Sugar\n",
      "Price  50\n"
     ]
    }
   ],
   "source": [
    "shop(price=50,item=\"Sugar\")"
   ]
  },
  {
   "cell_type": "code",
   "execution_count": 18,
   "metadata": {
    "scrolled": true
   },
   "outputs": [
    {
     "name": "stdout",
     "output_type": "stream",
     "text": [
      "Item  Sugar\n",
      "Price  60\n"
     ]
    }
   ],
   "source": [
    "# Default Arguments\n",
    "\n",
    "def shop1(item,price=60):\n",
    "    print(\"Item \",item)\n",
    "    print(\"Price \",price)\n",
    "\n",
    "shop1(\"Sugar\")  # if we didin't give any value it will pass the default value"
   ]
  },
  {
   "cell_type": "code",
   "execution_count": null,
   "metadata": {},
   "outputs": [],
   "source": []
  },
  {
   "cell_type": "code",
   "execution_count": 19,
   "metadata": {},
   "outputs": [
    {
     "name": "stdout",
     "output_type": "stream",
     "text": [
      "Item  Sugar\n",
      "Price  50\n"
     ]
    }
   ],
   "source": [
    "shop1(\"Sugar\",50) "
   ]
  },
  {
   "cell_type": "code",
   "execution_count": 20,
   "metadata": {},
   "outputs": [
    {
     "name": "stdout",
     "output_type": "stream",
     "text": [
      "Name  Ayush\n",
      "Class  10\n",
      "Marks  90\n"
     ]
    }
   ],
   "source": [
    "# Variable Length Arguments\n",
    "\n",
    "def std(name, clas, marks):\n",
    "    print(\"Name \", name)\n",
    "    print(\"Class \", clas)\n",
    "    print(\"Marks \", marks)\n",
    "std(\"Ayush\", 10, 90)"
   ]
  },
  {
   "cell_type": "code",
   "execution_count": 23,
   "metadata": {},
   "outputs": [
    {
     "name": "stdout",
     "output_type": "stream",
     "text": [
      "Name  Ayush\n",
      "Class  10\n",
      "Marks  (90, 82, 45, 85)\n"
     ]
    }
   ],
   "source": [
    "def std(name, clas, *marks):\n",
    "    print(\"Name \", name)\n",
    "    print(\"Class \", clas)\n",
    "    print(\"Marks \", marks)\n",
    "std(\"Ayush\", 10, 90,82,45,85)"
   ]
  },
  {
   "cell_type": "code",
   "execution_count": 24,
   "metadata": {},
   "outputs": [
    {
     "name": "stdout",
     "output_type": "stream",
     "text": [
      "Name  Ayush\n",
      "Class  10\n",
      "Marks  {'English': 90, 'Maths': 45, 'Physics': 87}\n"
     ]
    }
   ],
   "source": [
    "#Multiple keywords \n",
    "def std(name, clas, **marks):\n",
    "    print(\"Name \", name)\n",
    "    print(\"Class \", clas)\n",
    "    print(\"Marks \", marks)\n",
    "    \n",
    "std(name=\"Ayush\", clas=10, English=90, Maths=45, Physics=87)"
   ]
  },
  {
   "cell_type": "code",
   "execution_count": null,
   "metadata": {},
   "outputs": [],
   "source": []
  }
 ],
 "metadata": {
  "celltoolbar": "Raw Cell Format",
  "kernelspec": {
   "display_name": "Python 3",
   "language": "python",
   "name": "python3"
  },
  "language_info": {
   "codemirror_mode": {
    "name": "ipython",
    "version": 3
   },
   "file_extension": ".py",
   "mimetype": "text/x-python",
   "name": "python",
   "nbconvert_exporter": "python",
   "pygments_lexer": "ipython3",
   "version": "3.6.9"
  }
 },
 "nbformat": 4,
 "nbformat_minor": 2
}
